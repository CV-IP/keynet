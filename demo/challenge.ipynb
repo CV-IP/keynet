{
 "cells": [
  {
   "cell_type": "code",
   "execution_count": 1,
   "metadata": {},
   "outputs": [],
   "source": [
    "import vipy"
   ]
  },
  {
   "cell_type": "code",
   "execution_count": 2,
   "metadata": {},
   "outputs": [
    {
     "name": "stdout",
     "output_type": "stream",
     "text": [
      "Sequential(\n",
      "  (conv1): KeyedLayer(<Conv2d: in_channels=1, out_channels=6, kernel_size=(3, 3), stride=1, backend=scipy, shape=(4705, 785), nnz=45049>>)\n",
      "  (relu1): ReLU()\n",
      "  (pool1): KeyedLayer(<AvgPool2d: kernel_size=3, stride=2, backend=scipy, shape=(1177, 4705), nnz=11263>>)\n",
      "  (conv2): KeyedLayer(<Conv2d: in_channels=6, out_channels=16, kernel_size=(3, 3), stride=1, backend=scipy, shape=(3137, 1177), nnz=156737>>)\n",
      "  (relu2): ReLU()\n",
      "  (pool2): KeyedLayer(<AvgPool2d: kernel_size=3, stride=2, backend=scipy, shape=(785, 3137), nnz=7185>>)\n",
      "  (fc1): KeyedLayer(<Linear: in_features=784, out_features=120, backend=scipy, shape=(121, 785), nnz=94201>>)\n",
      "  (relu3): ReLU()\n",
      "  (fc2): KeyedLayer(<Linear: in_features=120, out_features=84, backend=scipy, shape=(85, 121), nnz=10165>>)\n",
      "  (relu4): ReLU()\n",
      "  (fc3): KeyedLayer(<Linear: in_features=84, out_features=10, backend=scipy, shape=(11, 85), nnz=851>>)\n",
      ")\n",
      "<PublicKeyedSensor: height=28, width=28, channels=1>\n"
     ]
    }
   ],
   "source": [
    "# Load the public keynet and the public sensor\n",
    "(ksensor, knet) = vipy.util.load('keynet_challenge_lenet_10AUG20.pkl')\n",
    "\n",
    "# The keynet was constructed from a source LeNet model, with private layer keys.  \n",
    "# The keynet is available to you for inspection\n",
    "# The weights for the source LeNet model are not available to you, but the topology is available:\n",
    "# https://github.com/visym/keynet/blob/master/keynet/mnist.py#L49-L63\n",
    "print(knet)\n",
    "\n",
    "# The keyed sensor was constructed using a private image key\n",
    "# The image key is not available to you.\n",
    "# The output of the keyed sensor is available to you in the image 'keynet_challenge_lenet_10AUG20.png'\n",
    "# We provide an PublicKeyedSensor object that will marshal an encrypted image for keynet encoding\n",
    "print(ksensor)"
   ]
  },
  {
   "cell_type": "code",
   "execution_count": 3,
   "metadata": {},
   "outputs": [
    {
     "name": "stdout",
     "output_type": "stream",
     "text": [
      "<vipy.image: height=28, width=28, color=rgb, filename=\"keynet_challenge_lenet_10AUG20.png\">\n"
     ]
    }
   ],
   "source": [
    "# The challenge image has been encrypted with a private image key that is not available to you\n",
    "im = vipy.image.Image('keynet_challenge_lenet_10AUG20.png').load()\n",
    "print(im)"
   ]
  },
  {
   "cell_type": "code",
   "execution_count": 4,
   "metadata": {},
   "outputs": [
    {
     "data": {
      "image/png": "[encoded data removed]",
      "text/plain": [
       "<Figure size 28x28 with 1 Axes>"
      ]
     },
     "metadata": {
      "needs_background": "light"
     },
     "output_type": "display_data"
    },
    {
     "data": {
      "image/png": "[encoded data removed]",
      "text/plain": [
       "<Figure size 512x512 with 1 Axes>"
      ]
     },
     "metadata": {
      "needs_background": "light"
     },
     "output_type": "display_data"
    },
    {
     "data": {
      "text/plain": [
       "<vipy.image: height=512, width=512, color=rgb, filename=\"keynet_challenge_lenet.png\">"
      ]
     },
     "execution_count": 4,
     "metadata": {},
     "output_type": "execute_result"
    }
   ],
   "source": [
    "# You can inspect the encrypted image. \n",
    "# This image is 28x28x1 for input to a lenet style network\n",
    "im.show()\n",
    "\n",
    "# This can also be visualized as a larger image\n",
    "im.clone().maxdim(512, interp='nearest').show()"
   ]
  },
  {
   "cell_type": "code",
   "execution_count": 5,
   "metadata": {},
   "outputs": [
    {
     "name": "stdout",
     "output_type": "stream",
     "text": [
      "[keynet.layer]: forward <PublicKeyedSensor: height=28, width=28, channels=1>\n",
      "[keynet.layer]: forward KeyedLayer(<Conv2d: in_channels=1, out_channels=6, kernel_size=(3, 3), stride=1, backend=scipy, shape=(4705, 785), nnz=45049>>)\n",
      "[keynet.layer]: forward KeyedLayer(<AvgPool2d: kernel_size=3, stride=2, backend=scipy, shape=(1177, 4705), nnz=11263>>)\n",
      "[keynet.layer]: forward KeyedLayer(<Conv2d: in_channels=6, out_channels=16, kernel_size=(3, 3), stride=1, backend=scipy, shape=(3137, 1177), nnz=156737>>)\n",
      "[keynet.layer]: forward KeyedLayer(<AvgPool2d: kernel_size=3, stride=2, backend=scipy, shape=(785, 3137), nnz=7185>>)\n",
      "[keynet.layer]: forward KeyedLayer(<Linear: in_features=784, out_features=120, backend=scipy, shape=(121, 785), nnz=94201>>)\n",
      "[keynet.layer]: forward KeyedLayer(<Linear: in_features=120, out_features=84, backend=scipy, shape=(85, 121), nnz=10165>>)\n",
      "[keynet.layer]: forward KeyedLayer(<Linear: in_features=84, out_features=10, backend=scipy, shape=(11, 85), nnz=851>>)\n"
     ]
    }
   ],
   "source": [
    "# Load this image, and perform a forward pass through the keynet returning a public encoding\n",
    "yh = knet.forward(ksensor.load('keynet_challenge_lenet.png').tensor())"
   ]
  },
  {
   "cell_type": "code",
   "execution_count": 6,
   "metadata": {},
   "outputs": [
    {
     "name": "stdout",
     "output_type": "stream",
     "text": [
      "Public Image: [[[ 96  96  96]\n",
      "  [ 12  12  12]\n",
      "  [ 46  46  46]\n",
      "  ...\n",
      "  [ 98  98  98]\n",
      "  [ 65  65  65]\n",
      "  [ 60  60  60]]\n",
      "\n",
      " [[ 95  95  95]\n",
      "  [148 148 148]\n",
      "  [ 69  69  69]\n",
      "  ...\n",
      "  [ 32  32  32]\n",
      "  [ 53  53  53]\n",
      "  [221 221 221]]\n",
      "\n",
      " [[ 74  74  74]\n",
      "  [ 98  98  98]\n",
      "  [ 94  94  94]\n",
      "  ...\n",
      "  [187 187 187]\n",
      "  [ 78  78  78]\n",
      "  [183 183 183]]\n",
      "\n",
      " ...\n",
      "\n",
      " [[ 63  63  63]\n",
      "  [ 33  33  33]\n",
      "  [100 100 100]\n",
      "  ...\n",
      "  [190 190 190]\n",
      "  [ 53  53  53]\n",
      "  [ 91  91  91]]\n",
      "\n",
      " [[203 203 203]\n",
      "  [235 235 235]\n",
      "  [ 65  65  65]\n",
      "  ...\n",
      "  [ 12  12  12]\n",
      "  [235 235 235]\n",
      "  [ 47  47  47]]\n",
      "\n",
      " [[167 167 167]\n",
      "  [ 13  13  13]\n",
      "  [201 201 201]\n",
      "  ...\n",
      "  [177 177 177]\n",
      "  [ 81  81  81]\n",
      "  [ 27  27  27]]]\n",
      "\n",
      "Public Encoding: tensor([[[ 0.7802]],\n",
      "\n",
      "        [[-0.6160]],\n",
      "\n",
      "        [[ 0.5948]],\n",
      "\n",
      "        [[-0.6935]],\n",
      "\n",
      "        [[-0.0941]],\n",
      "\n",
      "        [[-0.2036]],\n",
      "\n",
      "        [[-0.0465]],\n",
      "\n",
      "        [[ 0.7052]],\n",
      "\n",
      "        [[-0.0140]],\n",
      "\n",
      "        [[-0.5587]]])\n",
      "\n",
      "Public keynet: Sequential(\n",
      "  (conv1): KeyedLayer(<Conv2d: in_channels=1, out_channels=6, kernel_size=(3, 3), stride=1, backend=scipy, shape=(4705, 785), nnz=45049>>)\n",
      "  (relu1): ReLU()\n",
      "  (pool1): KeyedLayer(<AvgPool2d: kernel_size=3, stride=2, backend=scipy, shape=(1177, 4705), nnz=11263>>)\n",
      "  (conv2): KeyedLayer(<Conv2d: in_channels=6, out_channels=16, kernel_size=(3, 3), stride=1, backend=scipy, shape=(3137, 1177), nnz=156737>>)\n",
      "  (relu2): ReLU()\n",
      "  (pool2): KeyedLayer(<AvgPool2d: kernel_size=3, stride=2, backend=scipy, shape=(785, 3137), nnz=7185>>)\n",
      "  (fc1): KeyedLayer(<Linear: in_features=784, out_features=120, backend=scipy, shape=(121, 785), nnz=94201>>)\n",
      "  (relu3): ReLU()\n",
      "  (fc2): KeyedLayer(<Linear: in_features=120, out_features=84, backend=scipy, shape=(85, 121), nnz=10165>>)\n",
      "  (relu4): ReLU()\n",
      "  (fc3): KeyedLayer(<Linear: in_features=84, out_features=10, backend=scipy, shape=(11, 85), nnz=851>>)\n",
      ")\n",
      "\n"
     ]
    }
   ],
   "source": [
    "# Your task is to recover the secret message in 'keynet_challenge_lenet.png' \n",
    "# given only the image, the public keynet output and the public keynet\n",
    "(public_image, public_encoding, public_keynet) = (im.numpy(), yh, knet)\n",
    "print('Public Image: %s\\n' % str(public_image))\n",
    "print('Public Encoding: %s\\n' % str(public_encoding))\n",
    "print('Public keynet: %s\\n' % str(public_keynet))\n",
    "\n",
    "# The secret message will tell you how to notify us that you succeeded!  Good luck!"
   ]
  }
 ],
 "metadata": {
  "kernelspec": {
   "display_name": "Python 3",
   "language": "python",
   "name": "python3"
  },
  "language_info": {
   "codemirror_mode": {
    "name": "ipython",
    "version": 3
   },
   "file_extension": ".py",
   "mimetype": "text/x-python",
   "name": "python",
   "nbconvert_exporter": "python",
   "pygments_lexer": "ipython3",
   "version": "3.7.6"
  }
 },
 "nbformat": 4,
 "nbformat_minor": 4
}
